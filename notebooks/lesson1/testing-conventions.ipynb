{
  "cells": [
    {
      "cell_type": "markdown",
      "metadata": {
        "id": "H4J3RLKvHwux"
      },
      "source": [
        "## Python's unittest\n",
        "What does the standard library has to offer? And how does it look to write tests in it?"
      ]
    },
    {
      "cell_type": "code",
      "execution_count": null,
      "metadata": {
        "colab": {
          "base_uri": "https://localhost:8080/"
        },
        "id": "Y9zaFUOXGK4s",
        "outputId": "dd1e33f5-9534-47a4-d1df-27a0529ae270"
      },
      "outputs": [],
      "source": [
        "import unittest\n",
        "\n",
        "class TestExample(unittest.TestCase):\n",
        "\n",
        "  def test_assertion(self):\n",
        "    self.assertEquals(\"some string\", \"some other\")\n",
        "\n",
        "unittest.main(argv=[''], verbosity=2, exit=False)"
      ]
    },
    {
      "cell_type": "markdown",
      "metadata": {
        "id": "fYaDioF4-zFf"
      },
      "source": [
        "## How do you feel about learning test methods from `unittest`?\n",
        "\n",
        "* `self.assertEqual(a, b)`\n",
        "* `self.assertNotEqual(a, b)`\n",
        "* `self.assertTrue(x)`\n",
        "* `self.assertFalse(x)`\n",
        "* `self.assertIs(a, b)`\n",
        "* `self.assertIsNot(a, b)`\n",
        "* `self.assertIsNone(x)`\n",
        "* `self.assertIsNotNone(x)`\n",
        "* `self.assertIn(a, b)`\n",
        "* `self.assertNotIn(a, b)`\n",
        "* `self.assertIsInstance(a, b)`\n",
        "* `self.assertNotIsInstance(a, b)`\n",
        "* `self.assertRaises(exc, fun, *args, **kwds)`\n",
        "* `self.assertRaisesRegex(exc, r, fun, *args, **kwds)`\n",
        "* `self.assertWarns(warn, fun, *args, **kwds)`\n",
        "* `self.assertWarnsRegex(warn, r, fun, *args, **kwds)`\n",
        "* `self.assertLogs(logger, level)`\n",
        "* `self.assertMultiLineEqual(a, b)`\n",
        "* `self.assertSequenceEqual(a, b)`\n",
        "* `self.assertListEqual(a, b)`\n",
        "* `self.assertTupleEqual(a, b)`\n",
        "* `self.assertSetEqual(a, b)`\n",
        "* `self.assertDictEqual(a, b)`\n",
        "* `self.assertAlmostEqual(a, b)`\n",
        "* `self.assertNotAlmostEqual(a, b)`\n",
        "* `self.assertGreater(a, b)`\n",
        "* `self.assertGreaterEqual(a, b)`\n",
        "* `self.assertLess(a, b)`\n",
        "* `self.assertLessEqual(a, b)`\n",
        "* `self.assertRegex(s, r)`\n",
        "* `self.assertNotRegex(s, r)`\n",
        "* `self.assertCountEqual(a, b)`\n"
      ]
    },
    {
      "cell_type": "code",
      "execution_count": null,
      "metadata": {
        "colab": {
          "base_uri": "https://localhost:8080/"
        },
        "id": "1JK3Szr4-7qz",
        "outputId": "46910055-99ce-4cc7-a091-3cf5c59eb55f"
      },
      "outputs": [],
      "source": [
        "import unittest\n",
        "\n",
        "class TestExample(unittest.TestCase):\n",
        "\n",
        "  def test_assertion(self):\n",
        "    self.assertNotAlmostEqual(2, 2)\n",
        "\n",
        "unittest.main(argv=[''], verbosity=2, exit=False)"
      ]
    },
    {
      "cell_type": "markdown",
      "metadata": {
        "id": "FoYOOpzjMWA6"
      },
      "source": [
        "## Welcome to Pytest\n",
        "The land where everything is simpler and practical:\n",
        "\n",
        "* A command-line tool, but also a framework\n",
        "* Doesn't force one to use the framework\n",
        "* No classes required\n",
        "* Can run functions\n",
        "* Allows simple `assert` calls in tests: operators: `==`, `!=`, `>`, \n",
        "\n",
        "* Ultra-rich output, which can be turned off!\n",
        "\n",
        "_Pytest makes you want to actually write tests_"
      ]
    },
    {
      "cell_type": "code",
      "execution_count": null,
      "metadata": {
        "colab": {
          "base_uri": "https://localhost:8080/",
          "height": 165
        },
        "id": "ocD4AQyr1pXC",
        "outputId": "724ed04e-ab18-4e19-a83c-0d4faf91eb0a"
      },
      "outputs": [],
      "source": [
        "assert \"this string is long\" == \"this string is Long\", \"this thing failed\""
      ]
    },
    {
      "cell_type": "markdown",
      "metadata": {},
      "source": [
        "### What happens with plain asserts?"
      ]
    },
    {
      "cell_type": "code",
      "execution_count": 9,
      "metadata": {
        "colab": {
          "base_uri": "https://localhost:8080/"
        },
        "id": "EwwxRP7q_NxD",
        "outputId": "2dc8cf61-1af4-4141-cce6-4e325ec72b98"
      },
      "outputs": [
        {
          "name": "stdout",
          "output_type": "stream",
          "text": [
            "-O     : remove assert and __debug__-dependent statements; add .opt-1 before\n"
          ]
        }
      ],
      "source": [
        "!python --help | grep \"assert\" "
      ]
    },
    {
      "cell_type": "markdown",
      "metadata": {
        "id": "QDK7iRmbNUb3"
      },
      "source": [
        "### Tests can be functions or classes\n",
        "\n",
        "```python\n",
        "def test_my_function():\n",
        "  assert 1 == 1\n",
        "```\n",
        "\n",
        "Classes do not need inheritance:\n",
        "\n",
        "```python\n",
        "class TestMyClass:\n",
        "\n",
        "  def test_my_method(self):\n",
        "    assert 1 == 1\n",
        "```\n"
      ]
    },
    {
      "cell_type": "markdown",
      "metadata": {
        "id": "d557O7tLIRgT"
      },
      "source": [
        "# Test layouts\n",
        "How do you add new tests or place them in a project? What if there are no test directories yet? What about running them automatically?"
      ]
    },
    {
      "cell_type": "markdown",
      "metadata": {
        "id": "Uu9tgGv_Lu2K"
      },
      "source": [
        "### Directory layout starts with `tests`\n",
        "\n",
        "* From `tests` you can add anything like `unit`, `functional` or other meaningful names like `database`\n",
        "\n",
        "* Files need to be pre-fixed with `test_`\n",
        "\n",
        "* Test functions need to be prefixed with `test_`\n",
        "\n",
        "* Test classes need to be prefixed with `Test`"
      ]
    },
    {
      "cell_type": "markdown",
      "metadata": {
        "id": "362hTtzlPzpm"
      },
      "source": [
        "Inspect the files around the [barebones project](https://github.com/alfredodeza/barebones). It is a simple project that sorts and prettifies JSON to `stdout` or in a file. \n",
        "The sample structure and layout helps visualize how and where to put files:\n",
        "\n",
        "```text\n",
        "barebones\n",
        "├── bin\n",
        "│   └── jformat\n",
        "├── examples\n",
        "│   └── example.json\n",
        "├── jformat\n",
        "│   ├── __init__.py\n",
        "│   ├── main.py\n",
        "│   ├── reformat.py\n",
        "│   └── tests\n",
        "│       ├── __init__.py\n",
        "│       ├── test_main.py\n",
        "│       └── test_verify_output.py\n",
        "├── LICENSE\n",
        "└── setup.py\n",
        "\n",
        "4 directories, 10 files\n",
        "```"
      ]
    }
  ],
  "metadata": {
    "colab": {
      "collapsed_sections": [],
      "name": "Introduction to Pytest.ipynb",
      "provenance": []
    },
    "kernelspec": {
      "display_name": "Python 3.8.9 64-bit",
      "language": "python",
      "name": "python3"
    },
    "language_info": {
      "codemirror_mode": {
        "name": "ipython",
        "version": 3
      },
      "file_extension": ".py",
      "mimetype": "text/x-python",
      "name": "python",
      "nbconvert_exporter": "python",
      "pygments_lexer": "ipython3",
      "version": "3.8.9"
    },
    "vscode": {
      "interpreter": {
        "hash": "31f2aee4e71d21fbe5cf8b01ff0e069b9275f58929596ceb00d14d90e3e16cd6"
      }
    }
  },
  "nbformat": 4,
  "nbformat_minor": 0
}
