{
  "nbformat": 4,
  "nbformat_minor": 0,
  "metadata": {
    "colab": {
      "name": "Introduction to Pytest.ipynb",
      "provenance": [],
      "collapsed_sections": []
    },
    "kernelspec": {
      "name": "python3",
      "display_name": "Python 3"
    }
  },
  "cells": [
    {
      "cell_type": "markdown",
      "metadata": {
        "id": "g58N8MaT4GXX"
      },
      "source": [
        "**Some content made from chapters of the Testing In Python book**\n",
        "\n",
        "* [Buy a copy on LeanPub](https://leanpub.com/testinginpython)\n",
        "* [Buy a copy from Amazon](https://www.amazon.com/Testing-Python-Robust-Professionals-ebook/dp/B0852BJ57Z/ref=sr_1_3?dchild=1&qid=1591183850&sr=8-3)\n",
        "\n",
        "\n",
        "![Testing In Python Book](https://d2sofvawe08yqg.cloudfront.net/testinginpython/hero?1579007318)"
      ]
    },
    {
      "cell_type": "markdown",
      "metadata": {
        "id": "H4J3RLKvHwux"
      },
      "source": [
        "## Python's unittest\n",
        "What does the standard library has to offer? And how does it look to write tests in it?"
      ]
    },
    {
      "cell_type": "code",
      "metadata": {
        "id": "Y9zaFUOXGK4s",
        "colab": {
          "base_uri": "https://localhost:8080/"
        },
        "outputId": "dd1e33f5-9534-47a4-d1df-27a0529ae270"
      },
      "source": [
        "import unittest\n",
        "\n",
        "class TestExample(unittest.TestCase):\n",
        "\n",
        "  def test_assertion(self):\n",
        "    self.assertEquals(\"some string\", \"some other\")\n",
        "\n",
        "unittest.main(argv=[''], verbosity=2, exit=False)"
      ],
      "execution_count": null,
      "outputs": [
        {
          "output_type": "stream",
          "text": [
            "test_assertion (__main__.TestExample) ... /usr/local/lib/python3.6/dist-packages/ipykernel_launcher.py:6: DeprecationWarning: Please use assertEqual instead.\n",
            "  \n",
            "FAIL\n",
            "\n",
            "======================================================================\n",
            "FAIL: test_assertion (__main__.TestExample)\n",
            "----------------------------------------------------------------------\n",
            "Traceback (most recent call last):\n",
            "  File \"<ipython-input-1-a0a36f994b5f>\", line 6, in test_assertion\n",
            "    self.assertEquals(\"some string\", \"some other\")\n",
            "AssertionError: 'some string' != 'some other'\n",
            "- some string\n",
            "+ some other\n",
            "\n",
            "\n",
            "----------------------------------------------------------------------\n",
            "Ran 1 test in 0.006s\n",
            "\n",
            "FAILED (failures=1)\n"
          ],
          "name": "stderr"
        },
        {
          "output_type": "execute_result",
          "data": {
            "text/plain": [
              "<unittest.main.TestProgram at 0x7f1ad521b978>"
            ]
          },
          "metadata": {
            "tags": []
          },
          "execution_count": 1
        }
      ]
    },
    {
      "cell_type": "markdown",
      "metadata": {
        "id": "fYaDioF4-zFf"
      },
      "source": [
        "## How do you feel about learning test methods from `unittest`?\n",
        "\n",
        "* `self.assertEqual(a, b)`\n",
        "* `self.assertNotEqual(a, b)`\n",
        "* `self.assertTrue(x)`\n",
        "* `self.assertFalse(x)`\n",
        "* `self.assertIs(a, b)`\n",
        "* `self.assertIsNot(a, b)`\n",
        "* `self.assertIsNone(x)`\n",
        "* `self.assertIsNotNone(x)`\n",
        "* `self.assertIn(a, b)`\n",
        "* `self.assertNotIn(a, b)`\n",
        "* `self.assertIsInstance(a, b)`\n",
        "* `self.assertNotIsInstance(a, b)`\n",
        "* `self.assertRaises(exc, fun, *args, **kwds)`\n",
        "* `self.assertRaisesRegex(exc, r, fun, *args, **kwds)`\n",
        "* `self.assertWarns(warn, fun, *args, **kwds)`\n",
        "* `self.assertWarnsRegex(warn, r, fun, *args, **kwds)`\n",
        "* `self.assertLogs(logger, level)`\n",
        "* `self.assertMultiLineEqual(a, b)`\n",
        "* `self.assertSequenceEqual(a, b)`\n",
        "* `self.assertListEqual(a, b)`\n",
        "* `self.assertTupleEqual(a, b)`\n",
        "* `self.assertSetEqual(a, b)`\n",
        "* `self.assertDictEqual(a, b)`\n",
        "* `self.assertAlmostEqual(a, b)`\n",
        "* `self.assertNotAlmostEqual(a, b)`\n",
        "* `self.assertGreater(a, b)`\n",
        "* `self.assertGreaterEqual(a, b)`\n",
        "* `self.assertLess(a, b)`\n",
        "* `self.assertLessEqual(a, b)`\n",
        "* `self.assertRegex(s, r)`\n",
        "* `self.assertNotRegex(s, r)`\n",
        "* `self.assertCountEqual(a, b)`\n"
      ]
    },
    {
      "cell_type": "code",
      "metadata": {
        "id": "1JK3Szr4-7qz",
        "colab": {
          "base_uri": "https://localhost:8080/"
        },
        "outputId": "46910055-99ce-4cc7-a091-3cf5c59eb55f"
      },
      "source": [
        "import unittest\n",
        "\n",
        "class TestExample(unittest.TestCase):\n",
        "\n",
        "  def test_assertion(self):\n",
        "    self.assertNotAlmostEqual(2, 2)\n",
        "\n",
        "unittest.main(argv=[''], verbosity=2, exit=False)"
      ],
      "execution_count": null,
      "outputs": [
        {
          "output_type": "stream",
          "text": [
            "test_assertion (__main__.TestExample) ... FAIL\n",
            "\n",
            "======================================================================\n",
            "FAIL: test_assertion (__main__.TestExample)\n",
            "----------------------------------------------------------------------\n",
            "Traceback (most recent call last):\n",
            "  File \"<ipython-input-9-c63090099cbe>\", line 6, in test_assertion\n",
            "    self.assertNotAlmostEqual(2, 2)\n",
            "AssertionError: 2 == 2 within 7 places\n",
            "\n",
            "----------------------------------------------------------------------\n",
            "Ran 1 test in 0.004s\n",
            "\n",
            "FAILED (failures=1)\n"
          ],
          "name": "stderr"
        },
        {
          "output_type": "execute_result",
          "data": {
            "text/plain": [
              "<unittest.main.TestProgram at 0x7f1ad49db390>"
            ]
          },
          "metadata": {
            "tags": []
          },
          "execution_count": 9
        }
      ]
    },
    {
      "cell_type": "markdown",
      "metadata": {
        "id": "FoYOOpzjMWA6"
      },
      "source": [
        "## Welcome to Pytest\n",
        "The land where everything is simpler and practical:\n",
        "\n",
        "* A command-line tool, but also a framework\n",
        "* Doesn't force one to use the framework\n",
        "* No classes required\n",
        "* Can run functions\n",
        "* Allows simple `assert` calls in tests: operators: `==`, `!=`, `>`, \n",
        "\n",
        "* Ultra-rich output, which can be turned off!\n",
        "\n",
        "_Pytest makes you want to actually write tests_"
      ]
    },
    {
      "cell_type": "code",
      "metadata": {
        "id": "ocD4AQyr1pXC",
        "colab": {
          "base_uri": "https://localhost:8080/",
          "height": 165
        },
        "outputId": "724ed04e-ab18-4e19-a83c-0d4faf91eb0a"
      },
      "source": [
        "assert \"this string is long\" == \"this string is Long\", \"this thing failed\""
      ],
      "execution_count": null,
      "outputs": [
        {
          "output_type": "error",
          "ename": "AssertionError",
          "evalue": "ignored",
          "traceback": [
            "\u001b[0;31m---------------------------------------------------------------------------\u001b[0m",
            "\u001b[0;31mAssertionError\u001b[0m                            Traceback (most recent call last)",
            "\u001b[0;32m<ipython-input-11-a9949975946d>\u001b[0m in \u001b[0;36m<module>\u001b[0;34m()\u001b[0m\n\u001b[0;32m----> 1\u001b[0;31m \u001b[0;32massert\u001b[0m \u001b[0;34m\"this string is long\"\u001b[0m \u001b[0;34m==\u001b[0m \u001b[0;34m\"this string is Long\"\u001b[0m\u001b[0;34m,\u001b[0m \u001b[0;34m\"this thing failed\"\u001b[0m\u001b[0;34m\u001b[0m\u001b[0;34m\u001b[0m\u001b[0m\n\u001b[0m",
            "\u001b[0;31mAssertionError\u001b[0m: this thing failed"
          ]
        }
      ]
    },
    {
      "cell_type": "markdown",
      "metadata": {
        "id": "awBzDCKH_OxA"
      },
      "source": [
        "```\n",
        "python -o \n",
        "```"
      ]
    },
    {
      "cell_type": "code",
      "metadata": {
        "colab": {
          "base_uri": "https://localhost:8080/"
        },
        "id": "EwwxRP7q_NxD",
        "outputId": "2dc8cf61-1af4-4141-cce6-4e325ec72b98"
      },
      "source": [
        "!python --help "
      ],
      "execution_count": null,
      "outputs": [
        {
          "output_type": "stream",
          "text": [
            "usage: python3 [option] ... [-c cmd | -m mod | file | -] [arg] ...\n",
            "Options and arguments (and corresponding environment variables):\n",
            "-b     : issue warnings about str(bytes_instance), str(bytearray_instance)\n",
            "         and comparing bytes/bytearray with str. (-bb: issue errors)\n",
            "-B     : don't write .pyc files on import; also PYTHONDONTWRITEBYTECODE=x\n",
            "-c cmd : program passed in as string (terminates option list)\n",
            "-d     : debug output from parser; also PYTHONDEBUG=x\n",
            "-E     : ignore PYTHON* environment variables (such as PYTHONPATH)\n",
            "-h     : print this help message and exit (also --help)\n",
            "-i     : inspect interactively after running script; forces a prompt even\n",
            "         if stdin does not appear to be a terminal; also PYTHONINSPECT=x\n",
            "-I     : isolate Python from the user's environment (implies -E and -s)\n",
            "-m mod : run library module as a script (terminates option list)\n",
            "-O     : remove assert and __debug__-dependent statements; add .opt-1 before\n",
            "         .pyc extension; also PYTHONOPTIMIZE=x\n",
            "-OO    : do -O changes and also discard docstrings; add .opt-2 before\n",
            "         .pyc extension\n",
            "-q     : don't print version and copyright messages on interactive startup\n",
            "-s     : don't add user site directory to sys.path; also PYTHONNOUSERSITE\n",
            "-S     : don't imply 'import site' on initialization\n",
            "-u     : force the binary I/O layers of stdout and stderr to be unbuffered;\n",
            "         stdin is always buffered; text I/O layer will be line-buffered;\n",
            "         also PYTHONUNBUFFERED=x\n",
            "-v     : verbose (trace import statements); also PYTHONVERBOSE=x\n",
            "         can be supplied multiple times to increase verbosity\n",
            "-V     : print the Python version number and exit (also --version)\n",
            "         when given twice, print more information about the build\n",
            "-W arg : warning control; arg is action:message:category:module:lineno\n",
            "         also PYTHONWARNINGS=arg\n",
            "-x     : skip first line of source, allowing use of non-Unix forms of #!cmd\n",
            "-X opt : set implementation-specific option\n",
            "file   : program read from script file\n",
            "-      : program read from stdin (default; interactive mode if a tty)\n",
            "arg ...: arguments passed to program in sys.argv[1:]\n",
            "\n",
            "Other environment variables:\n",
            "PYTHONSTARTUP: file executed on interactive startup (no default)\n",
            "PYTHONPATH   : ':'-separated list of directories prefixed to the\n",
            "               default module search path.  The result is sys.path.\n",
            "PYTHONHOME   : alternate <prefix> directory (or <prefix>:<exec_prefix>).\n",
            "               The default module search path uses <prefix>/lib/pythonX.X.\n",
            "PYTHONCASEOK : ignore case in 'import' statements (Windows).\n",
            "PYTHONIOENCODING: Encoding[:errors] used for stdin/stdout/stderr.\n",
            "PYTHONFAULTHANDLER: dump the Python traceback on fatal errors.\n",
            "PYTHONHASHSEED: if this variable is set to 'random', a random value is used\n",
            "   to seed the hashes of str, bytes and datetime objects.  It can also be\n",
            "   set to an integer in the range [0,4294967295] to get hash values with a\n",
            "   predictable seed.\n",
            "PYTHONMALLOC: set the Python memory allocators and/or install debug hooks\n",
            "   on Python memory allocators. Use PYTHONMALLOC=debug to install debug\n",
            "   hooks.\n"
          ],
          "name": "stdout"
        }
      ]
    },
    {
      "cell_type": "markdown",
      "metadata": {
        "id": "N5naAfceM9rR"
      },
      "source": [
        "### Installing and running:\n",
        "\n",
        "```text\n",
        "$ pip install pytest\n",
        "$ pytest --help\n",
        "```\n",
        "\n",
        "Run it as simple as:\n",
        "\n",
        "```text\n",
        "$ pytest \n",
        "```\n",
        "\n",
        "Automatically picks up and discovers tests, but optionally it allows to specify files or actual tests."
      ]
    },
    {
      "cell_type": "markdown",
      "metadata": {
        "id": "QDK7iRmbNUb3"
      },
      "source": [
        "### Tests can be functions or classes\n",
        "\n",
        "```python\n",
        "def test_my_function():\n",
        "  assert 1 == 1\n",
        "```\n",
        "\n",
        "Classes do not need inheritance:\n",
        "\n",
        "```python\n",
        "class TestMyClass:\n",
        "\n",
        "  def test_my_method(self):\n",
        "    assert 1 == 1\n",
        "```\n"
      ]
    },
    {
      "cell_type": "markdown",
      "metadata": {
        "id": "d557O7tLIRgT"
      },
      "source": [
        "# Test layouts\n",
        "How do you add new tests or place them in a project? What if there are no test directories yet? What about running them automatically?"
      ]
    },
    {
      "cell_type": "markdown",
      "metadata": {
        "id": "Uu9tgGv_Lu2K"
      },
      "source": [
        "### Directory layout starts with `tests`\n",
        "\n",
        "* From `tests` you can add anything like `unit`, `functional` or other meaningful names like `database`\n",
        "\n",
        "* Files need to be pre-fixed with `test_`\n",
        "\n",
        "* Test functions need to be prefixed with `test_`\n",
        "\n",
        "* Test classes need to be prefixed with `Test`"
      ]
    },
    {
      "cell_type": "code",
      "metadata": {
        "id": "1FA3OcuFQtPA",
        "colab": {
          "base_uri": "https://localhost:8080/"
        },
        "outputId": "4494e852-0747-491d-c8e4-67b226d461ad"
      },
      "source": [
        "%%writefile test_util.py\n",
        "\n",
        "def str_to_int(string):\n",
        "    \"\"\"\n",
        "    Parses a string number into an integer, optionally converting to a float\n",
        "    and rounding down.\n",
        "    You can pass \"1.1\" which returns 1\n",
        "    [\"1\"] -> raises RuntimeError\n",
        "    \"\"\"\n",
        "    error_msg = \"Unable to convert to integer: '%s'\" % str(string)\n",
        "    try:\n",
        "        integer = float(string.replace(',', '.'))\n",
        "    except AttributeError:\n",
        "        # this might be a integer already, so try to use it, otherwise raise\n",
        "        # the original exception\n",
        "        if isinstance(string, (int, float)):\n",
        "            integer = string\n",
        "        else:\n",
        "            raise RuntimeError(error_msg)\n",
        "    except (TypeError, ValueError):\n",
        "        raise RuntimeError(error_msg)\n",
        "\n",
        "    return int(integer)\n",
        "\n",
        "\n",
        "\n",
        "class TestFloats:\n",
        "\n",
        "    def setup(self):\n",
        "        print('\\nthis is setup')\n",
        "\n",
        "    def teardown(self):\n",
        "        print('\\nthis is teardown')\n",
        "\n",
        "    def setup_class(cls):\n",
        "        print('\\nthis is setup class')\n",
        "\n",
        "    def teardown_class(cls):\n",
        "        print('\\nthis is teardown class')\n",
        "\n",
        "    def test_rounds_down(self):\n",
        "        result = str_to_int('1.99')\n",
        "        assert result == 2\n",
        "\n",
        "    def test_round_down_lesser_half(self):\n",
        "        result = str_to_int('1.2')\n",
        "        assert result == 2\n"
      ],
      "execution_count": null,
      "outputs": [
        {
          "output_type": "stream",
          "text": [
            "Overwriting test_util.py\n"
          ],
          "name": "stdout"
        }
      ]
    },
    {
      "cell_type": "code",
      "metadata": {
        "id": "BG1wvESCQ5mi",
        "colab": {
          "base_uri": "https://localhost:8080/"
        },
        "outputId": "c9204060-3f49-4b16-a123-a01395789d9e"
      },
      "source": [
        "!pytest -vvvv test_util.py"
      ],
      "execution_count": null,
      "outputs": [
        {
          "output_type": "stream",
          "text": [
            "\u001b[1m============================= test session starts ==============================\u001b[0m\n",
            "platform linux2 -- Python 2.7.17, pytest-3.6.4, py-1.8.0, pluggy-0.7.1 -- /usr/bin/python2\n",
            "cachedir: .pytest_cache\n",
            "rootdir: /content, inifile:\n",
            "\u001b[1m\rcollecting 0 items                                                             \u001b[0m\u001b[1m\rcollecting 2 items                                                             \u001b[0m\u001b[1m\rcollecting 2 items                                                             \u001b[0m\u001b[1m\rcollecting 2 items                                                             \u001b[0m\u001b[1m\rcollected 2 items                                                              \u001b[0m\n",
            "\n",
            "test_util.py::TestFloats::test_rounds_down \u001b[31mFAILED\u001b[0m\u001b[36m                        [ 50%]\u001b[0m\n",
            "test_util.py::TestFloats::test_round_down_lesser_half \u001b[31mFAILED\u001b[0m\u001b[36m             [100%]\u001b[0m\n",
            "\n",
            "=================================== FAILURES ===================================\n",
            "\u001b[1m\u001b[31m_________________________ TestFloats.test_rounds_down __________________________\u001b[0m\n",
            "\n",
            "self = <test_util.TestFloats instance at 0x7fbf26d90870>\n",
            "\n",
            "\u001b[1m    def test_rounds_down(self):\u001b[0m\n",
            "\u001b[1m        result = str_to_int('1.99')\u001b[0m\n",
            "\u001b[1m>       assert result == 2\u001b[0m\n",
            "\u001b[1m\u001b[31mE       assert 1 == 2\u001b[0m\n",
            "\n",
            "\u001b[1m\u001b[31mtest_util.py\u001b[0m:42: AssertionError\n",
            "---------------------------- Captured stdout setup -----------------------------\n",
            "\n",
            "this is setup class\n",
            "\n",
            "this is setup\n",
            "--------------------------- Captured stdout teardown ---------------------------\n",
            "\n",
            "this is teardown\n",
            "\u001b[1m\u001b[31m____________________ TestFloats.test_round_down_lesser_half ____________________\u001b[0m\n",
            "\n",
            "self = <test_util.TestFloats instance at 0x7fbf26d86b90>\n",
            "\n",
            "\u001b[1m    def test_round_down_lesser_half(self):\u001b[0m\n",
            "\u001b[1m        result = str_to_int('1.2')\u001b[0m\n",
            "\u001b[1m>       assert result == 2\u001b[0m\n",
            "\u001b[1m\u001b[31mE       assert 1 == 2\u001b[0m\n",
            "\n",
            "\u001b[1m\u001b[31mtest_util.py\u001b[0m:46: AssertionError\n",
            "---------------------------- Captured stdout setup -----------------------------\n",
            "\n",
            "this is setup\n",
            "--------------------------- Captured stdout teardown ---------------------------\n",
            "\n",
            "this is teardown\n",
            "\n",
            "this is teardown class\n",
            "\u001b[1m\u001b[31m=========================== 2 failed in 0.04 seconds ===========================\u001b[0m\n"
          ],
          "name": "stdout"
        }
      ]
    },
    {
      "cell_type": "code",
      "metadata": {
        "id": "nNeTAGeeIgTw",
        "colab": {
          "base_uri": "https://localhost:8080/"
        },
        "outputId": "05e376e0-beb7-41c0-86f1-918f3b3f86c2"
      },
      "source": [
        "!git clone https://github.com/alfredodeza/barebones\n",
        "!apt install tree"
      ],
      "execution_count": null,
      "outputs": [
        {
          "output_type": "stream",
          "text": [
            "Cloning into 'barebones'...\n",
            "remote: Enumerating objects: 28, done.\u001b[K\n",
            "remote: Counting objects: 100% (28/28), done.\u001b[K\n",
            "remote: Compressing objects: 100% (18/18), done.\u001b[K\n",
            "remote: Total 28 (delta 5), reused 24 (delta 4), pack-reused 0\u001b[K\n",
            "Unpacking objects: 100% (28/28), done.\n",
            "Reading package lists... Done\n",
            "Building dependency tree       \n",
            "Reading state information... Done\n",
            "The following NEW packages will be installed:\n",
            "  tree\n",
            "0 upgraded, 1 newly installed, 0 to remove and 14 not upgraded.\n",
            "Need to get 40.7 kB of archives.\n",
            "After this operation, 105 kB of additional disk space will be used.\n",
            "Get:1 http://archive.ubuntu.com/ubuntu bionic/universe amd64 tree amd64 1.7.0-5 [40.7 kB]\n",
            "Fetched 40.7 kB in 1s (42.8 kB/s)\n",
            "Selecting previously unselected package tree.\n",
            "(Reading database ... 144865 files and directories currently installed.)\n",
            "Preparing to unpack .../tree_1.7.0-5_amd64.deb ...\n",
            "Unpacking tree (1.7.0-5) ...\n",
            "Setting up tree (1.7.0-5) ...\n",
            "Processing triggers for man-db (2.8.3-2ubuntu0.1) ...\n"
          ],
          "name": "stdout"
        }
      ]
    },
    {
      "cell_type": "code",
      "metadata": {
        "id": "elgKeUAGCFVU",
        "colab": {
          "base_uri": "https://localhost:8080/"
        },
        "outputId": "18dc16ae-0efb-4957-ef7e-55d1e6cfdee0"
      },
      "source": [
        "!tree barebones"
      ],
      "execution_count": null,
      "outputs": [
        {
          "output_type": "stream",
          "text": [
            "barebones\n",
            "├── bin\n",
            "│   └── jformat\n",
            "├── examples\n",
            "│   └── example.json\n",
            "├── jformat\n",
            "│   ├── __init__.py\n",
            "│   ├── main.py\n",
            "│   ├── reformat.py\n",
            "│   └── tests\n",
            "│       ├── __init__.py\n",
            "│       ├── test_main.py\n",
            "│       └── test_verify_output.py\n",
            "├── LICENSE\n",
            "└── setup.py\n",
            "\n",
            "4 directories, 10 files\n"
          ],
          "name": "stdout"
        }
      ]
    },
    {
      "cell_type": "code",
      "metadata": {
        "id": "6_uzdOoZCMzf",
        "colab": {
          "base_uri": "https://localhost:8080/"
        },
        "outputId": "190f9a7d-e935-432b-bfa6-dedbc905dac9"
      },
      "source": [
        "!pip install pytest"
      ],
      "execution_count": null,
      "outputs": [
        {
          "output_type": "stream",
          "text": [
            "Requirement already satisfied: pytest in /usr/local/lib/python3.6/dist-packages (3.6.4)\n",
            "Requirement already satisfied: more-itertools>=4.0.0 in /usr/local/lib/python3.6/dist-packages (from pytest) (8.6.0)\n",
            "Requirement already satisfied: py>=1.5.0 in /usr/local/lib/python3.6/dist-packages (from pytest) (1.9.0)\n",
            "Requirement already satisfied: attrs>=17.4.0 in /usr/local/lib/python3.6/dist-packages (from pytest) (20.3.0)\n",
            "Requirement already satisfied: six>=1.10.0 in /usr/local/lib/python3.6/dist-packages (from pytest) (1.15.0)\n",
            "Requirement already satisfied: pluggy<0.8,>=0.5 in /usr/local/lib/python3.6/dist-packages (from pytest) (0.7.1)\n",
            "Requirement already satisfied: atomicwrites>=1.0 in /usr/local/lib/python3.6/dist-packages (from pytest) (1.4.0)\n",
            "Requirement already satisfied: setuptools in /usr/local/lib/python3.6/dist-packages (from pytest) (50.3.2)\n"
          ],
          "name": "stdout"
        }
      ]
    },
    {
      "cell_type": "code",
      "metadata": {
        "id": "a_3KHipCIodd",
        "colab": {
          "base_uri": "https://localhost:8080/"
        },
        "outputId": "3f4f1bfd-1ee3-4f47-97a9-d7f1f070ddc1"
      },
      "source": [
        "!pytest barebones"
      ],
      "execution_count": null,
      "outputs": [
        {
          "output_type": "stream",
          "text": [
            "\u001b[1m============================= test session starts ==============================\u001b[0m\n",
            "platform linux2 -- Python 2.7.17, pytest-3.6.4, py-1.8.0, pluggy-0.7.1\n",
            "rootdir: /content/barebones, inifile:\n",
            "\u001b[1m\rcollecting 0 items                                                             \u001b[0m\u001b[1m\rcollecting 1 item                                                              \u001b[0m\u001b[1m\rcollecting 4 items                                                             \u001b[0m\u001b[1m\rcollecting 4 items                                                             \u001b[0m\u001b[1m\rcollecting 4 items                                                             \u001b[0m\u001b[1m\rcollected 4 items                                                              \u001b[0m\n",
            "\n",
            "barebones/jformat/tests/test_main.py .\u001b[36m                                   [ 25%]\u001b[0m\n",
            "barebones/jformat/tests/test_verify_output.py ...\u001b[36m                        [100%]\u001b[0m\n",
            "\n",
            "\u001b[32m\u001b[1m=========================== 4 passed in 0.02 seconds ===========================\u001b[0m\n"
          ],
          "name": "stdout"
        }
      ]
    },
    {
      "cell_type": "code",
      "metadata": {
        "id": "3ZtMp20lVyHk",
        "colab": {
          "base_uri": "https://localhost:8080/"
        },
        "outputId": "0c6ec4d7-f92b-4221-8e55-8a1f16390bc1"
      },
      "source": [
        "!pytest --collect-only barebones"
      ],
      "execution_count": null,
      "outputs": [
        {
          "output_type": "stream",
          "text": [
            "\u001b[1m============================= test session starts ==============================\u001b[0m\n",
            "platform linux2 -- Python 2.7.17, pytest-3.6.4, py-1.8.0, pluggy-0.7.1\n",
            "rootdir: /content/barebones, inifile:\n",
            "\u001b[1m\rcollecting 0 items                                                             \u001b[0m\u001b[1m\rcollecting 1 item                                                              \u001b[0m\u001b[1m\rcollecting 4 items                                                             \u001b[0m\u001b[1m\rcollecting 4 items                                                             \u001b[0m\u001b[1m\rcollecting 4 items                                                             \u001b[0m\u001b[1m\rcollected 4 items                                                              \u001b[0m\n",
            "<Module 'jformat/tests/test_main.py'>\n",
            "  <Function 'test_yes_is_true'>\n",
            "<Module 'jformat/tests/test_verify_output.py'>\n",
            "  <Class 'TestLongComparisons'>\n",
            "    <Instance '()'>\n",
            "      <Function 'test_compare_large_strings'>\n",
            "      <Function 'test_basic'>\n",
            "      <Function 'test_compare_large_lists_to_none'>\n",
            "\n",
            "\u001b[1m\u001b[33m========================= no tests ran in 0.01 seconds =========================\u001b[0m\n"
          ],
          "name": "stdout"
        }
      ]
    },
    {
      "cell_type": "markdown",
      "metadata": {
        "id": "362hTtzlPzpm"
      },
      "source": [
        "Inspect the files around the [barebones project](https://github.com/alfredodeza/barebones). It is a simple project that sorts and prettifies JSON to `stdout` or in a file."
      ]
    }
  ]
}