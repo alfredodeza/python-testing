{
  "cells": [
    {
      "cell_type": "markdown",
      "metadata": {},
      "source": [
        "# Testing with Pytest\n",
        "As with any Python project, create a virtual environment:\n",
        "\n",
        "```\n",
        "$ python -m venv venv\n",
        "$ source venv/bin/activate\n",
        "```\n",
        "\n",
        "And then install Pytest:\n",
        "\n",
        "```\n",
        "$ pip install pytest\n",
        "```\n",
        "\n",
        "Add it to a `requirements.txt` file so you don't forget to install it next time"
      ]
    },
    {
      "cell_type": "markdown",
      "metadata": {
        "id": "QDK7iRmbNUb3"
      },
      "source": [
        "### Tests can be functions or classes\n",
        "\n",
        "```python\n",
        "def test_my_function():\n",
        "  assert 1 == 1\n",
        "```\n",
        "\n",
        "Classes do not need inheritance:\n",
        "\n",
        "```python\n",
        "class TestMyClass:\n",
        "\n",
        "  def test_my_method(self):\n",
        "    assert 1 == 1\n",
        "```\n"
      ]
    },
    {
      "cell_type": "markdown",
      "metadata": {},
      "source": [
        "## Hands-on installing and running\n",
        "For the next operations, switch to the terminal. After Pytest installation,  change directories to the `examples` directory to run `pytest`\n",
        "\n",
        "In that directory you will have a single"
      ]
    },
    {
      "cell_type": "code",
      "execution_count": null,
      "metadata": {
        "colab": {
          "base_uri": "https://localhost:8080/"
        },
        "id": "BG1wvESCQ5mi",
        "outputId": "c9204060-3f49-4b16-a123-a01395789d9e",
        "vscode": {
          "languageId": "python"
        }
      },
      "outputs": [
        {
          "name": "stdout",
          "output_type": "stream",
          "text": [
            "\u001b[1m============================= test session starts ==============================\u001b[0m\n",
            "platform linux2 -- Python 2.7.17, pytest-3.6.4, py-1.8.0, pluggy-0.7.1 -- /usr/bin/python2\n",
            "cachedir: .pytest_cache\n",
            "rootdir: /content, inifile:\n",
            "\u001b[1m\rcollecting 0 items                                                             \u001b[0m\u001b[1m\rcollecting 2 items                                                             \u001b[0m\u001b[1m\rcollecting 2 items                                                             \u001b[0m\u001b[1m\rcollecting 2 items                                                             \u001b[0m\u001b[1m\rcollected 2 items                                                              \u001b[0m\n",
            "\n",
            "test_util.py::TestFloats::test_rounds_down \u001b[31mFAILED\u001b[0m\u001b[36m                        [ 50%]\u001b[0m\n",
            "test_util.py::TestFloats::test_round_down_lesser_half \u001b[31mFAILED\u001b[0m\u001b[36m             [100%]\u001b[0m\n",
            "\n",
            "=================================== FAILURES ===================================\n",
            "\u001b[1m\u001b[31m_________________________ TestFloats.test_rounds_down __________________________\u001b[0m\n",
            "\n",
            "self = <test_util.TestFloats instance at 0x7fbf26d90870>\n",
            "\n",
            "\u001b[1m    def test_rounds_down(self):\u001b[0m\n",
            "\u001b[1m        result = str_to_int('1.99')\u001b[0m\n",
            "\u001b[1m>       assert result == 2\u001b[0m\n",
            "\u001b[1m\u001b[31mE       assert 1 == 2\u001b[0m\n",
            "\n",
            "\u001b[1m\u001b[31mtest_util.py\u001b[0m:42: AssertionError\n",
            "---------------------------- Captured stdout setup -----------------------------\n",
            "\n",
            "this is setup class\n",
            "\n",
            "this is setup\n",
            "--------------------------- Captured stdout teardown ---------------------------\n",
            "\n",
            "this is teardown\n",
            "\u001b[1m\u001b[31m____________________ TestFloats.test_round_down_lesser_half ____________________\u001b[0m\n",
            "\n",
            "self = <test_util.TestFloats instance at 0x7fbf26d86b90>\n",
            "\n",
            "\u001b[1m    def test_round_down_lesser_half(self):\u001b[0m\n",
            "\u001b[1m        result = str_to_int('1.2')\u001b[0m\n",
            "\u001b[1m>       assert result == 2\u001b[0m\n",
            "\u001b[1m\u001b[31mE       assert 1 == 2\u001b[0m\n",
            "\n",
            "\u001b[1m\u001b[31mtest_util.py\u001b[0m:46: AssertionError\n",
            "---------------------------- Captured stdout setup -----------------------------\n",
            "\n",
            "this is setup\n",
            "--------------------------- Captured stdout teardown ---------------------------\n",
            "\n",
            "this is teardown\n",
            "\n",
            "this is teardown class\n",
            "\u001b[1m\u001b[31m=========================== 2 failed in 0.04 seconds ===========================\u001b[0m\n"
          ]
        }
      ],
      "source": [
        "!pytest -vvvv test_util.py"
      ]
    },
    {
      "cell_type": "code",
      "execution_count": null,
      "metadata": {
        "colab": {
          "base_uri": "https://localhost:8080/"
        },
        "id": "nNeTAGeeIgTw",
        "outputId": "05e376e0-beb7-41c0-86f1-918f3b3f86c2",
        "vscode": {
          "languageId": "python"
        }
      },
      "outputs": [
        {
          "name": "stdout",
          "output_type": "stream",
          "text": [
            "Cloning into 'barebones'...\n",
            "remote: Enumerating objects: 28, done.\u001b[K\n",
            "remote: Counting objects: 100% (28/28), done.\u001b[K\n",
            "remote: Compressing objects: 100% (18/18), done.\u001b[K\n",
            "remote: Total 28 (delta 5), reused 24 (delta 4), pack-reused 0\u001b[K\n",
            "Unpacking objects: 100% (28/28), done.\n",
            "Reading package lists... Done\n",
            "Building dependency tree       \n",
            "Reading state information... Done\n",
            "The following NEW packages will be installed:\n",
            "  tree\n",
            "0 upgraded, 1 newly installed, 0 to remove and 14 not upgraded.\n",
            "Need to get 40.7 kB of archives.\n",
            "After this operation, 105 kB of additional disk space will be used.\n",
            "Get:1 http://archive.ubuntu.com/ubuntu bionic/universe amd64 tree amd64 1.7.0-5 [40.7 kB]\n",
            "Fetched 40.7 kB in 1s (42.8 kB/s)\n",
            "Selecting previously unselected package tree.\n",
            "(Reading database ... 144865 files and directories currently installed.)\n",
            "Preparing to unpack .../tree_1.7.0-5_amd64.deb ...\n",
            "Unpacking tree (1.7.0-5) ...\n",
            "Setting up tree (1.7.0-5) ...\n",
            "Processing triggers for man-db (2.8.3-2ubuntu0.1) ...\n"
          ]
        }
      ],
      "source": [
        "!git clone https://github.com/alfredodeza/barebones\n",
        "!apt install tree"
      ]
    },
    {
      "cell_type": "code",
      "execution_count": null,
      "metadata": {
        "colab": {
          "base_uri": "https://localhost:8080/"
        },
        "id": "elgKeUAGCFVU",
        "outputId": "18dc16ae-0efb-4957-ef7e-55d1e6cfdee0",
        "vscode": {
          "languageId": "python"
        }
      },
      "outputs": [
        {
          "name": "stdout",
          "output_type": "stream",
          "text": [
            "barebones\n",
            "├── bin\n",
            "│   └── jformat\n",
            "├── examples\n",
            "│   └── example.json\n",
            "├── jformat\n",
            "│   ├── __init__.py\n",
            "│   ├── main.py\n",
            "│   ├── reformat.py\n",
            "│   └── tests\n",
            "│       ├── __init__.py\n",
            "│       ├── test_main.py\n",
            "│       └── test_verify_output.py\n",
            "├── LICENSE\n",
            "└── setup.py\n",
            "\n",
            "4 directories, 10 files\n"
          ]
        }
      ],
      "source": [
        "!tree barebones"
      ]
    },
    {
      "cell_type": "code",
      "execution_count": null,
      "metadata": {
        "colab": {
          "base_uri": "https://localhost:8080/"
        },
        "id": "6_uzdOoZCMzf",
        "outputId": "190f9a7d-e935-432b-bfa6-dedbc905dac9",
        "vscode": {
          "languageId": "python"
        }
      },
      "outputs": [
        {
          "name": "stdout",
          "output_type": "stream",
          "text": [
            "Requirement already satisfied: pytest in /usr/local/lib/python3.6/dist-packages (3.6.4)\n",
            "Requirement already satisfied: more-itertools>=4.0.0 in /usr/local/lib/python3.6/dist-packages (from pytest) (8.6.0)\n",
            "Requirement already satisfied: py>=1.5.0 in /usr/local/lib/python3.6/dist-packages (from pytest) (1.9.0)\n",
            "Requirement already satisfied: attrs>=17.4.0 in /usr/local/lib/python3.6/dist-packages (from pytest) (20.3.0)\n",
            "Requirement already satisfied: six>=1.10.0 in /usr/local/lib/python3.6/dist-packages (from pytest) (1.15.0)\n",
            "Requirement already satisfied: pluggy<0.8,>=0.5 in /usr/local/lib/python3.6/dist-packages (from pytest) (0.7.1)\n",
            "Requirement already satisfied: atomicwrites>=1.0 in /usr/local/lib/python3.6/dist-packages (from pytest) (1.4.0)\n",
            "Requirement already satisfied: setuptools in /usr/local/lib/python3.6/dist-packages (from pytest) (50.3.2)\n"
          ]
        }
      ],
      "source": [
        "!pip install pytest"
      ]
    },
    {
      "cell_type": "code",
      "execution_count": null,
      "metadata": {
        "colab": {
          "base_uri": "https://localhost:8080/"
        },
        "id": "a_3KHipCIodd",
        "outputId": "3f4f1bfd-1ee3-4f47-97a9-d7f1f070ddc1",
        "vscode": {
          "languageId": "python"
        }
      },
      "outputs": [
        {
          "name": "stdout",
          "output_type": "stream",
          "text": [
            "\u001b[1m============================= test session starts ==============================\u001b[0m\n",
            "platform linux2 -- Python 2.7.17, pytest-3.6.4, py-1.8.0, pluggy-0.7.1\n",
            "rootdir: /content/barebones, inifile:\n",
            "\u001b[1m\rcollecting 0 items                                                             \u001b[0m\u001b[1m\rcollecting 1 item                                                              \u001b[0m\u001b[1m\rcollecting 4 items                                                             \u001b[0m\u001b[1m\rcollecting 4 items                                                             \u001b[0m\u001b[1m\rcollecting 4 items                                                             \u001b[0m\u001b[1m\rcollected 4 items                                                              \u001b[0m\n",
            "\n",
            "barebones/jformat/tests/test_main.py .\u001b[36m                                   [ 25%]\u001b[0m\n",
            "barebones/jformat/tests/test_verify_output.py ...\u001b[36m                        [100%]\u001b[0m\n",
            "\n",
            "\u001b[32m\u001b[1m=========================== 4 passed in 0.02 seconds ===========================\u001b[0m\n"
          ]
        }
      ],
      "source": [
        "!pytest barebones"
      ]
    },
    {
      "cell_type": "code",
      "execution_count": null,
      "metadata": {
        "colab": {
          "base_uri": "https://localhost:8080/"
        },
        "id": "3ZtMp20lVyHk",
        "outputId": "0c6ec4d7-f92b-4221-8e55-8a1f16390bc1",
        "vscode": {
          "languageId": "python"
        }
      },
      "outputs": [
        {
          "name": "stdout",
          "output_type": "stream",
          "text": [
            "\u001b[1m============================= test session starts ==============================\u001b[0m\n",
            "platform linux2 -- Python 2.7.17, pytest-3.6.4, py-1.8.0, pluggy-0.7.1\n",
            "rootdir: /content/barebones, inifile:\n",
            "\u001b[1m\rcollecting 0 items                                                             \u001b[0m\u001b[1m\rcollecting 1 item                                                              \u001b[0m\u001b[1m\rcollecting 4 items                                                             \u001b[0m\u001b[1m\rcollecting 4 items                                                             \u001b[0m\u001b[1m\rcollecting 4 items                                                             \u001b[0m\u001b[1m\rcollected 4 items                                                              \u001b[0m\n",
            "<Module 'jformat/tests/test_main.py'>\n",
            "  <Function 'test_yes_is_true'>\n",
            "<Module 'jformat/tests/test_verify_output.py'>\n",
            "  <Class 'TestLongComparisons'>\n",
            "    <Instance '()'>\n",
            "      <Function 'test_compare_large_strings'>\n",
            "      <Function 'test_basic'>\n",
            "      <Function 'test_compare_large_lists_to_none'>\n",
            "\n",
            "\u001b[1m\u001b[33m========================= no tests ran in 0.01 seconds =========================\u001b[0m\n"
          ]
        }
      ],
      "source": [
        "!pytest --collect-only barebones"
      ]
    },
    {
      "cell_type": "markdown",
      "metadata": {
        "id": "362hTtzlPzpm"
      },
      "source": [
        "Inspect the files around the [barebones project](https://github.com/alfredodeza/barebones). It is a simple project that sorts and prettifies JSON to `stdout` or in a file."
      ]
    }
  ],
  "metadata": {
    "colab": {
      "collapsed_sections": [],
      "name": "Introduction to Pytest.ipynb",
      "provenance": []
    },
    "kernelspec": {
      "display_name": "Python 3",
      "name": "python3"
    }
  },
  "nbformat": 4,
  "nbformat_minor": 0
}
